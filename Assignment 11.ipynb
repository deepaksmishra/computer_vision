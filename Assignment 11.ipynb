{
 "cells": [
  {
   "cell_type": "code",
   "execution_count": null,
   "id": "ab2faf23",
   "metadata": {},
   "outputs": [],
   "source": [
    "1. What do REGION PROPOSALS entail?\n"
   ]
  },
  {
   "cell_type": "markdown",
   "id": "a3e488c3",
   "metadata": {},
   "source": [
    "\n",
    "The output of a region proposal network (RPN) is a bunch of boxes/proposals that will be passed to a classifier and regressor to eventually check the occurrence of objects. In nutshell , RPN predicts the possibility of an anchor being background or foreground, and refine the anchor."
   ]
  },
  {
   "cell_type": "code",
   "execution_count": null,
   "id": "a529ee70",
   "metadata": {},
   "outputs": [],
   "source": [
    "2. What do you mean by NON-MAXIMUM SUPPRESSION? (NMS)\n"
   ]
  },
  {
   "cell_type": "markdown",
   "id": "d90192d6",
   "metadata": {},
   "source": [
    "Non Maximum Suppression (NMS) is a technique used in numerous computer vision tasks. It is a class of algorithms to select one entity (e.g., bounding boxes) out of many overlapping entities. We can choose the selection criteria to arrive at the desired results."
   ]
  },
  {
   "cell_type": "code",
   "execution_count": null,
   "id": "0403d34f",
   "metadata": {},
   "outputs": [],
   "source": [
    "3. What exactly is mAP?\n"
   ]
  },
  {
   "cell_type": "markdown",
   "id": "284c5016",
   "metadata": {},
   "source": [
    "A map is a symbolic representation of selected characteristics of a place, usually drawn on a flat surface. Maps present information about the world in a simple, visual way. ... They can show exact locations of houses and streets in a city neighborhood."
   ]
  },
  {
   "cell_type": "code",
   "execution_count": null,
   "id": "2de82a13",
   "metadata": {},
   "outputs": [],
   "source": [
    "4. What is a frames per second (FPS)?\n"
   ]
  },
  {
   "cell_type": "markdown",
   "id": "6e610888",
   "metadata": {},
   "source": [
    "\n",
    "Stands for \"Frames Per Second.\" FPS is used to measure frame rate – the number of consecutive full-screen images that are displayed each second. ... A frame rate of 24 FPS is commonly used for film since it creates a smooth appearance. Many video cameras record in 30 or 60 FPS, which provides even smoother motion"
   ]
  },
  {
   "cell_type": "code",
   "execution_count": null,
   "id": "463e601d",
   "metadata": {},
   "outputs": [],
   "source": [
    "5. What is an IOU (INTERSECTION OVER UNION)?\n"
   ]
  },
  {
   "cell_type": "code",
   "execution_count": null,
   "id": "81422dfe",
   "metadata": {},
   "outputs": [],
   "source": [
    "Jaccard index"
   ]
  },
  {
   "cell_type": "code",
   "execution_count": null,
   "id": "5d792925",
   "metadata": {},
   "outputs": [],
   "source": [
    "6. Describe the PRECISION-RECALL CURVE (PR CURVE)\n"
   ]
  },
  {
   "cell_type": "markdown",
   "id": "bc15990a",
   "metadata": {},
   "source": [
    "The precision-recall curve shows the tradeoff between precision and recall for different threshold. A high area under the curve represents both high recall and high precision, where high precision relates to a low false positive rate, and high recall relates to a low false negative rate."
   ]
  },
  {
   "cell_type": "code",
   "execution_count": null,
   "id": "63332070",
   "metadata": {},
   "outputs": [],
   "source": [
    "7. What is the term &quot;selective search&quot;?\n"
   ]
  },
  {
   "cell_type": "markdown",
   "id": "d3dc7bee",
   "metadata": {},
   "source": [
    "The problem of object localization is the most difficult part of object detection. One approach is that we use sliding window of different size to locate objects in the image. This approach is called Exhaustive search. This approach is computationally very expensive as we need to search for object in thousands of windows even for small image size. Some optimization has been done such as taking window sizes in different ratios (instead of increasing it by some pixels)."
   ]
  },
  {
   "cell_type": "code",
   "execution_count": null,
   "id": "b228b5f3",
   "metadata": {},
   "outputs": [],
   "source": [
    "8. Describe the R-CNN model&#39;s four components.\n"
   ]
  },
  {
   "cell_type": "markdown",
   "id": "7b0281fd",
   "metadata": {},
   "source": [
    "R-CNNs ( Region-based Convolutional Neural Networks) are a family of machine learning models used in computer vision and image processing. Specially designed for object detection, the original goal of any R-CNN is to detect objects in any input image defining boundaries around them."
   ]
  },
  {
   "cell_type": "code",
   "execution_count": null,
   "id": "82c99d31",
   "metadata": {},
   "outputs": [],
   "source": [
    "9. What exactly is the Localization Module?\n"
   ]
  },
  {
   "cell_type": "markdown",
   "id": "689feab7",
   "metadata": {},
   "source": [
    "Localization is the adaptation of a product or service to meet the needs of a particular language, culture or desired population's \"look-and-feel.\" ... In some business contexts, the word localization may be shortened to L10n."
   ]
  },
  {
   "cell_type": "code",
   "execution_count": null,
   "id": "b9d9718b",
   "metadata": {},
   "outputs": [],
   "source": [
    "10. What are the R-CNN DISADVANTAGES?"
   ]
  },
  {
   "cell_type": "markdown",
   "id": "54316d1a",
   "metadata": {},
   "source": [
    "It still takes a huge amount of time to train the network as you would have to classify 2000 region proposals per image. It cannot be implemented real time as it takes around 47 seconds for each test image. The selective search algorithm is a fixed algorithm."
   ]
  },
  {
   "cell_type": "code",
   "execution_count": null,
   "id": "5ae99324",
   "metadata": {},
   "outputs": [],
   "source": []
  }
 ],
 "metadata": {
  "kernelspec": {
   "display_name": "Python 3",
   "language": "python",
   "name": "python3"
  },
  "language_info": {
   "codemirror_mode": {
    "name": "ipython",
    "version": 3
   },
   "file_extension": ".py",
   "mimetype": "text/x-python",
   "name": "python",
   "nbconvert_exporter": "python",
   "pygments_lexer": "ipython3",
   "version": "3.8.8"
  }
 },
 "nbformat": 4,
 "nbformat_minor": 5
}
