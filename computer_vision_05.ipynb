{
  "nbformat": 4,
  "nbformat_minor": 0,
  "metadata": {
    "colab": {
      "name": "computer_vision_05.ipynb",
      "provenance": [],
      "collapsed_sections": []
    },
    "kernelspec": {
      "name": "python3",
      "display_name": "Python 3"
    },
    "language_info": {
      "name": "python"
    }
  },
  "cells": [
    {
      "cell_type": "code",
      "metadata": {
        "id": "YVXKMcvoRR1k"
      },
      "source": [
        "1. How can each of these parameters be fine-tuned? • Number of hidden layers \n",
        "• Network architecture (network depth)\n",
        "\n",
        "• Each layer's number of neurons (layer width)\n",
        "\n",
        "• Form of activation\n",
        "\n",
        "• Optimization and learning\n",
        "\n",
        "• Learning rate and decay schedule\n",
        "\n",
        "• Mini batch size\n",
        "\n",
        "• Algorithms for optimization\n",
        "\n",
        "• The number of epochs (and early stopping criteria)\n",
        "\n",
        "• Overfitting that be avoided by using regularization techniques.\n",
        "\n",
        "• L2 normalization\n",
        "\n",
        "• Drop out layers\n",
        "• Data augmentation\n"
      ],
      "execution_count": null,
      "outputs": []
    }
  ]
}